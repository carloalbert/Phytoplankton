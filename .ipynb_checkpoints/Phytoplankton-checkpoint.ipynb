{
 "cells": [
  {
   "cell_type": "code",
   "execution_count": 1,
   "metadata": {},
   "outputs": [],
   "source": [
    "using Plots\n",
    "\n",
    "# Allocate memory for population:\n",
    "\n",
    "P = Array{Float64, 1}(10^5);"
   ]
  },
  {
   "cell_type": "code",
   "execution_count": null,
   "metadata": {},
   "outputs": [],
   "source": [
    "# Initialize variables:\n",
    "\n",
    "N = 1;\n",
    "P[1] = 1;\n",
    "i_max = 1;            # index of largest particle\n",
    "x_max = P[i_max];     # trait of largest particle\n",
    "\n",
    "omega_1 = 1;\n",
    "omega_2 = 1.2;\n",
    "u = 1;\n",
    "v = 10^3;\n",
    "c = 10.0^(-4);\n",
    "\n",
    "rng = MersenneTwister(1234);\n",
    "\n",
    "# population updates:\n",
    "\n",
    "for i = 1:10000000\n",
    "    \n",
    "    # calculate times of earliest birth, death and \"hit the wall\" events:\n",
    "    \n",
    "    t_birth = randexp(rng, Float32)/(N*omega_2);\n",
    "    t_death = randexp(rng, Float32)/(N^2*c);\n",
    "    t_htw   = omega_1^(-1) * log((v+u)/(P[i_max]+u));\n",
    "    \n",
    "    # find out which event takes place earliest and at what time:\n",
    "    \n",
    "    event = indmin([t_birth,t_death,t_htw])\n",
    "    t_star = [t_birth,t_death,t_htw][event]\n",
    "    \n",
    "    # let all particles grow until event happens:\n",
    "    \n",
    "    P[1:N] = exp(omega_1 * t_star)*P[1:N] + u*(exp(omega_1 * t_star) - 1)\n",
    "    \n",
    "    # execute event:\n",
    "    \n",
    "    if event == 1     # birth\n",
    "        index = rand(1:N)\n",
    "        P[index] = P[index]/2\n",
    "        P[N+1] = P[index]\n",
    "        N = N+1\n",
    "    elseif event == 2 # death\n",
    "        index = rand(1:N)\n",
    "        P[index] = P[N]\n",
    "        N = N-1\n",
    "        else          # \"hit the wall\"\n",
    "        index = i_max\n",
    "        P[i_max] = v/2\n",
    "        P[N+1] = v/2\n",
    "        N = N+1\n",
    "    end\n",
    "    \n",
    "    # find new largest particle, if necessary:\n",
    "    \n",
    "    if index == i_max\n",
    "        i_max = indmax(P[1:N])\n",
    "    end\n",
    "end"
   ]
  },
  {
   "cell_type": "code",
   "execution_count": null,
   "metadata": {},
   "outputs": [],
   "source": [
    "# plot results:\n",
    "\n",
    "histogram(log10(P[1:N]),yaxis = (:log10))\n",
    "\n",
    "N"
   ]
  }
 ],
 "metadata": {
  "kernelspec": {
   "display_name": "Julia 0.6.2",
   "language": "julia",
   "name": "julia-0.6"
  },
  "language_info": {
   "file_extension": ".jl",
   "mimetype": "application/julia",
   "name": "julia",
   "version": "0.6.2"
  }
 },
 "nbformat": 4,
 "nbformat_minor": 2
}
